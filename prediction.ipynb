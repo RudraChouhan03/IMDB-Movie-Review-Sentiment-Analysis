{
 "cells": [
  {
   "cell_type": "code",
   "execution_count": 8,
   "metadata": {},
   "outputs": [],
   "source": [
    "# Step 1: Import Libraries and Load the Model\n",
    "import numpy as np\n",
    "import tensorflow as tf\n",
    "import string\n",
    "from tensorflow.keras.datasets import imdb\n",
    "from tensorflow.keras.preprocessing import sequence\n",
    "from tensorflow.keras.models import load_model"
   ]
  },
  {
   "cell_type": "code",
   "execution_count": 9,
   "metadata": {},
   "outputs": [],
   "source": [
    "# Load the IMDB dataset word index\n",
    "word_index = imdb.get_word_index()\n",
    "reverse_word_index = {value: key for key, value in word_index.items()}"
   ]
  },
  {
   "cell_type": "code",
   "execution_count": 10,
   "metadata": {},
   "outputs": [
    {
     "name": "stderr",
     "output_type": "stream",
     "text": [
      "WARNING:absl:Compiled the loaded model, but the compiled metrics have yet to be built. `model.compile_metrics` will be empty until you train or evaluate the model.\n"
     ]
    },
    {
     "data": {
      "text/html": [
       "<pre style=\"white-space:pre;overflow-x:auto;line-height:normal;font-family:Menlo,'DejaVu Sans Mono',consolas,'Courier New',monospace\"><span style=\"font-weight: bold\">Model: \"sequential\"</span>\n",
       "</pre>\n"
      ],
      "text/plain": [
       "\u001b[1mModel: \"sequential\"\u001b[0m\n"
      ]
     },
     "metadata": {},
     "output_type": "display_data"
    },
    {
     "data": {
      "text/html": [
       "<pre style=\"white-space:pre;overflow-x:auto;line-height:normal;font-family:Menlo,'DejaVu Sans Mono',consolas,'Courier New',monospace\">┏━━━━━━━━━━━━━━━━━━━━━━━━━━━━━━━━━┳━━━━━━━━━━━━━━━━━━━━━━━━┳━━━━━━━━━━━━━━━┓\n",
       "┃<span style=\"font-weight: bold\"> Layer (type)                    </span>┃<span style=\"font-weight: bold\"> Output Shape           </span>┃<span style=\"font-weight: bold\">       Param # </span>┃\n",
       "┡━━━━━━━━━━━━━━━━━━━━━━━━━━━━━━━━━╇━━━━━━━━━━━━━━━━━━━━━━━━╇━━━━━━━━━━━━━━━┩\n",
       "│ embedding (<span style=\"color: #0087ff; text-decoration-color: #0087ff\">Embedding</span>)           │ (<span style=\"color: #00af00; text-decoration-color: #00af00\">32</span>, <span style=\"color: #00af00; text-decoration-color: #00af00\">500</span>, <span style=\"color: #00af00; text-decoration-color: #00af00\">128</span>)         │     <span style=\"color: #00af00; text-decoration-color: #00af00\">1,280,000</span> │\n",
       "├─────────────────────────────────┼────────────────────────┼───────────────┤\n",
       "│ simple_rnn (<span style=\"color: #0087ff; text-decoration-color: #0087ff\">SimpleRNN</span>)          │ (<span style=\"color: #00af00; text-decoration-color: #00af00\">32</span>, <span style=\"color: #00af00; text-decoration-color: #00af00\">128</span>)              │        <span style=\"color: #00af00; text-decoration-color: #00af00\">32,896</span> │\n",
       "├─────────────────────────────────┼────────────────────────┼───────────────┤\n",
       "│ dense (<span style=\"color: #0087ff; text-decoration-color: #0087ff\">Dense</span>)                   │ (<span style=\"color: #00af00; text-decoration-color: #00af00\">32</span>, <span style=\"color: #00af00; text-decoration-color: #00af00\">1</span>)                │           <span style=\"color: #00af00; text-decoration-color: #00af00\">129</span> │\n",
       "└─────────────────────────────────┴────────────────────────┴───────────────┘\n",
       "</pre>\n"
      ],
      "text/plain": [
       "┏━━━━━━━━━━━━━━━━━━━━━━━━━━━━━━━━━┳━━━━━━━━━━━━━━━━━━━━━━━━┳━━━━━━━━━━━━━━━┓\n",
       "┃\u001b[1m \u001b[0m\u001b[1mLayer (type)                   \u001b[0m\u001b[1m \u001b[0m┃\u001b[1m \u001b[0m\u001b[1mOutput Shape          \u001b[0m\u001b[1m \u001b[0m┃\u001b[1m \u001b[0m\u001b[1m      Param #\u001b[0m\u001b[1m \u001b[0m┃\n",
       "┡━━━━━━━━━━━━━━━━━━━━━━━━━━━━━━━━━╇━━━━━━━━━━━━━━━━━━━━━━━━╇━━━━━━━━━━━━━━━┩\n",
       "│ embedding (\u001b[38;5;33mEmbedding\u001b[0m)           │ (\u001b[38;5;34m32\u001b[0m, \u001b[38;5;34m500\u001b[0m, \u001b[38;5;34m128\u001b[0m)         │     \u001b[38;5;34m1,280,000\u001b[0m │\n",
       "├─────────────────────────────────┼────────────────────────┼───────────────┤\n",
       "│ simple_rnn (\u001b[38;5;33mSimpleRNN\u001b[0m)          │ (\u001b[38;5;34m32\u001b[0m, \u001b[38;5;34m128\u001b[0m)              │        \u001b[38;5;34m32,896\u001b[0m │\n",
       "├─────────────────────────────────┼────────────────────────┼───────────────┤\n",
       "│ dense (\u001b[38;5;33mDense\u001b[0m)                   │ (\u001b[38;5;34m32\u001b[0m, \u001b[38;5;34m1\u001b[0m)                │           \u001b[38;5;34m129\u001b[0m │\n",
       "└─────────────────────────────────┴────────────────────────┴───────────────┘\n"
      ]
     },
     "metadata": {},
     "output_type": "display_data"
    },
    {
     "data": {
      "text/html": [
       "<pre style=\"white-space:pre;overflow-x:auto;line-height:normal;font-family:Menlo,'DejaVu Sans Mono',consolas,'Courier New',monospace\"><span style=\"font-weight: bold\"> Total params: </span><span style=\"color: #00af00; text-decoration-color: #00af00\">1,313,027</span> (5.01 MB)\n",
       "</pre>\n"
      ],
      "text/plain": [
       "\u001b[1m Total params: \u001b[0m\u001b[38;5;34m1,313,027\u001b[0m (5.01 MB)\n"
      ]
     },
     "metadata": {},
     "output_type": "display_data"
    },
    {
     "data": {
      "text/html": [
       "<pre style=\"white-space:pre;overflow-x:auto;line-height:normal;font-family:Menlo,'DejaVu Sans Mono',consolas,'Courier New',monospace\"><span style=\"font-weight: bold\"> Trainable params: </span><span style=\"color: #00af00; text-decoration-color: #00af00\">1,313,025</span> (5.01 MB)\n",
       "</pre>\n"
      ],
      "text/plain": [
       "\u001b[1m Trainable params: \u001b[0m\u001b[38;5;34m1,313,025\u001b[0m (5.01 MB)\n"
      ]
     },
     "metadata": {},
     "output_type": "display_data"
    },
    {
     "data": {
      "text/html": [
       "<pre style=\"white-space:pre;overflow-x:auto;line-height:normal;font-family:Menlo,'DejaVu Sans Mono',consolas,'Courier New',monospace\"><span style=\"font-weight: bold\"> Non-trainable params: </span><span style=\"color: #00af00; text-decoration-color: #00af00\">0</span> (0.00 B)\n",
       "</pre>\n"
      ],
      "text/plain": [
       "\u001b[1m Non-trainable params: \u001b[0m\u001b[38;5;34m0\u001b[0m (0.00 B)\n"
      ]
     },
     "metadata": {},
     "output_type": "display_data"
    },
    {
     "data": {
      "text/html": [
       "<pre style=\"white-space:pre;overflow-x:auto;line-height:normal;font-family:Menlo,'DejaVu Sans Mono',consolas,'Courier New',monospace\"><span style=\"font-weight: bold\"> Optimizer params: </span><span style=\"color: #00af00; text-decoration-color: #00af00\">2</span> (12.00 B)\n",
       "</pre>\n"
      ],
      "text/plain": [
       "\u001b[1m Optimizer params: \u001b[0m\u001b[38;5;34m2\u001b[0m (12.00 B)\n"
      ]
     },
     "metadata": {},
     "output_type": "display_data"
    }
   ],
   "source": [
    "# Load the pre-trained model with ReLU activation\n",
    "model = load_model('simple_rnn_imdb.h5')\n",
    "model.summary()"
   ]
  },
  {
   "cell_type": "code",
   "execution_count": 11,
   "metadata": {},
   "outputs": [
    {
     "data": {
      "text/plain": [
       "[array([[ 0.09024188, -0.02439128, -0.04393656, ..., -0.04807365,\n",
       "          0.05226925, -0.04675943],\n",
       "        [-0.08879855,  0.01006418,  0.00915438, ..., -0.05303691,\n",
       "          0.00472337, -0.05553286],\n",
       "        [ 0.01896848,  0.00736786, -0.00153665, ..., -0.04121708,\n",
       "          0.07347825, -0.01695965],\n",
       "        ...,\n",
       "        [ 0.02468045, -0.04481138, -0.03399017, ..., -0.0053083 ,\n",
       "          0.04423776,  0.01308134],\n",
       "        [-0.04166149,  0.05372863,  0.01377562, ..., -0.0194113 ,\n",
       "         -0.0263902 , -0.02858599],\n",
       "        [ 0.11042462, -0.11522401, -0.06760641, ...,  0.04897389,\n",
       "          0.12314329,  0.07577391]], dtype=float32),\n",
       " array([[ 0.04669908, -0.04669659,  0.07445913, ..., -0.11647173,\n",
       "          0.1258349 , -0.06398357],\n",
       "        [ 0.12436355,  0.11452886, -0.16698264, ..., -0.00208428,\n",
       "         -0.11986903,  0.14256747],\n",
       "        [-0.17741066,  0.11725061, -0.01400429, ...,  0.13579696,\n",
       "         -0.11333811,  0.10612345],\n",
       "        ...,\n",
       "        [-0.08124668, -0.0334284 ,  0.07722387, ...,  0.0372568 ,\n",
       "          0.08825052, -0.09561846],\n",
       "        [ 0.15653512,  0.09432045,  0.06161587, ..., -0.04003593,\n",
       "          0.11689805, -0.14090575],\n",
       "        [-0.10345183,  0.08205352,  0.06835425, ...,  0.08091839,\n",
       "          0.05849685, -0.12942792]], dtype=float32),\n",
       " array([[ 0.28078756, -0.0868156 ,  0.11452199, ...,  0.00067233,\n",
       "         -0.05418859,  0.05659893],\n",
       "        [ 0.04732164, -0.0528563 , -0.08123802, ..., -0.06235051,\n",
       "         -0.10563343, -0.03709576],\n",
       "        [-0.02211516, -0.04983024, -0.05397025, ..., -0.05592108,\n",
       "         -0.01595832, -0.18859692],\n",
       "        ...,\n",
       "        [ 0.06761096,  0.07225874, -0.08180565, ...,  0.14463638,\n",
       "          0.19640794, -0.14475234],\n",
       "        [-0.02725908, -0.10356128,  0.06337782, ...,  0.02854468,\n",
       "          0.02482939,  0.05618722],\n",
       "        [ 0.05299117,  0.1192298 , -0.03755284, ...,  0.02789618,\n",
       "          0.19422635,  0.01954977]], dtype=float32),\n",
       " array([ 0.12229919, -0.00191496, -0.00840717, -0.00368499, -0.01060186,\n",
       "         0.02810917, -0.01480664,  0.01666994, -0.00965755,  0.0137569 ,\n",
       "        -0.00763916,  0.02874384,  0.01534878, -0.02092336, -0.00833826,\n",
       "         0.00815408, -0.02633672,  0.00541517,  0.00479446, -0.0041544 ,\n",
       "        -0.03080818,  0.00609666, -0.00483055, -0.00300915, -0.00217062,\n",
       "         0.00273661,  0.00495897, -0.02788058,  0.00943114, -0.0183851 ,\n",
       "        -0.01330314, -0.01209524, -0.00780938,  0.0055226 , -0.00797017,\n",
       "        -0.01429318, -0.00704654, -0.00281101,  0.01750153,  0.00946396,\n",
       "        -0.01239817, -0.02264525, -0.01081138,  0.0078511 ,  0.01011942,\n",
       "        -0.01714689, -0.00466174,  0.01995755,  0.01581481, -0.0141677 ,\n",
       "         0.01497312, -0.00738801,  0.00688482, -0.01502853,  0.02933761,\n",
       "        -0.00948683, -0.01694741, -0.00227987, -0.00743266, -0.00990592,\n",
       "        -0.00210205, -0.0115051 , -0.00134766, -0.01844504,  0.01140152,\n",
       "         0.00039665, -0.01060762,  0.00254859, -0.00037455, -0.00733678,\n",
       "         0.01450456, -0.01957585, -0.02105288, -0.00948797, -0.02272104,\n",
       "        -0.0157188 ,  0.01403634, -0.02404515, -0.00620229,  0.01337855,\n",
       "        -0.00643879, -0.00731695, -0.01022772, -0.0180654 ,  0.0135723 ,\n",
       "        -0.01822269,  0.00778466,  0.00850509,  0.01736608,  0.00742785,\n",
       "         0.01203559, -0.00942518, -0.01461284, -0.01758741, -0.01263093,\n",
       "        -0.01234893,  0.00193866,  0.02002735,  0.01759763, -0.00426443,\n",
       "         0.00889168,  0.02429682, -0.01267099,  0.02318195, -0.01282051,\n",
       "        -0.01876757,  0.01861024,  0.01295458, -0.01797704, -0.02629541,\n",
       "        -0.01177674,  0.00477422, -0.02360499,  0.03378337,  0.0072568 ,\n",
       "        -0.00888549, -0.01924981, -0.00416518, -0.03206414, -0.00665991,\n",
       "        -0.0102961 ,  0.01938952,  0.00499292,  0.02515612,  0.01476353,\n",
       "        -0.00097783,  0.01250694, -0.02227401], dtype=float32),\n",
       " array([[ 0.4363471 ],\n",
       "        [-0.11170385],\n",
       "        [ 0.1750966 ],\n",
       "        [-0.47123852],\n",
       "        [ 0.21482785],\n",
       "        [-0.1741095 ],\n",
       "        [-0.1213852 ],\n",
       "        [ 0.13740373],\n",
       "        [ 0.22856434],\n",
       "        [-0.20299275],\n",
       "        [ 0.09287117],\n",
       "        [-0.25957277],\n",
       "        [ 0.01855254],\n",
       "        [-0.06376947],\n",
       "        [ 0.2107003 ],\n",
       "        [ 0.04321021],\n",
       "        [ 0.01357809],\n",
       "        [ 0.4752554 ],\n",
       "        [-0.00142838],\n",
       "        [ 0.04610384],\n",
       "        [ 0.08443654],\n",
       "        [-0.25791663],\n",
       "        [ 0.11873949],\n",
       "        [ 0.05690642],\n",
       "        [-0.1366172 ],\n",
       "        [ 0.10591877],\n",
       "        [ 0.12853037],\n",
       "        [ 0.17005841],\n",
       "        [ 0.53529406],\n",
       "        [-0.02709498],\n",
       "        [ 0.09210752],\n",
       "        [ 0.04458697],\n",
       "        [-0.08800196],\n",
       "        [ 0.5165699 ],\n",
       "        [ 0.09775396],\n",
       "        [ 0.05715653],\n",
       "        [ 0.22250853],\n",
       "        [ 0.1614624 ],\n",
       "        [ 0.09440476],\n",
       "        [ 0.24244738],\n",
       "        [ 0.05834742],\n",
       "        [ 0.01168529],\n",
       "        [ 0.07790902],\n",
       "        [ 0.16125758],\n",
       "        [-0.02501992],\n",
       "        [ 0.20705184],\n",
       "        [ 0.16878778],\n",
       "        [-0.13980424],\n",
       "        [ 0.02363727],\n",
       "        [ 0.49671432],\n",
       "        [-0.17212822],\n",
       "        [ 0.11203159],\n",
       "        [-0.19362544],\n",
       "        [ 0.1100271 ],\n",
       "        [ 0.21726501],\n",
       "        [ 0.10939693],\n",
       "        [-0.18434921],\n",
       "        [ 0.02112879],\n",
       "        [ 0.02563656],\n",
       "        [-0.07784227],\n",
       "        [-0.17766893],\n",
       "        [ 0.42883936],\n",
       "        [ 0.06241618],\n",
       "        [-0.21274625],\n",
       "        [-0.12571189],\n",
       "        [ 0.13241945],\n",
       "        [-0.09954616],\n",
       "        [ 0.18537146],\n",
       "        [ 0.07628755],\n",
       "        [ 0.2745975 ],\n",
       "        [ 0.16922973],\n",
       "        [ 0.3286371 ],\n",
       "        [-0.19936106],\n",
       "        [ 0.14819062],\n",
       "        [ 0.34404644],\n",
       "        [ 0.13856144],\n",
       "        [-0.21361168],\n",
       "        [-0.19369636],\n",
       "        [ 0.16661422],\n",
       "        [ 0.20892271],\n",
       "        [ 0.12685889],\n",
       "        [ 0.14020628],\n",
       "        [ 0.18290332],\n",
       "        [ 0.04449791],\n",
       "        [ 0.19111507],\n",
       "        [ 0.22769725],\n",
       "        [-0.0588905 ],\n",
       "        [ 0.4169853 ],\n",
       "        [ 0.11035185],\n",
       "        [-0.09994902],\n",
       "        [-0.22970414],\n",
       "        [ 0.06952557],\n",
       "        [ 0.79246217],\n",
       "        [ 0.17781521],\n",
       "        [-0.07793906],\n",
       "        [-0.0254261 ],\n",
       "        [-0.00861273],\n",
       "        [-0.2227761 ],\n",
       "        [-0.32053718],\n",
       "        [-0.18820296],\n",
       "        [ 0.47138107],\n",
       "        [-0.25375107],\n",
       "        [ 0.13846995],\n",
       "        [-0.19802639],\n",
       "        [-0.03096577],\n",
       "        [-0.16687787],\n",
       "        [ 0.00385388],\n",
       "        [ 0.3402018 ],\n",
       "        [-0.3067717 ],\n",
       "        [ 0.13922267],\n",
       "        [-0.05779491],\n",
       "        [-0.1368857 ],\n",
       "        [ 0.16448702],\n",
       "        [-0.11088992],\n",
       "        [-0.09617585],\n",
       "        [ 0.11775635],\n",
       "        [ 0.45839265],\n",
       "        [-0.22813416],\n",
       "        [-0.12036878],\n",
       "        [-0.03840169],\n",
       "        [ 0.09687763],\n",
       "        [-0.22277062],\n",
       "        [ 0.41727707],\n",
       "        [-0.31464267],\n",
       "        [-0.11798551],\n",
       "        [ 0.11366859],\n",
       "        [-0.21474937],\n",
       "        [ 0.06589821]], dtype=float32),\n",
       " array([0.3254632], dtype=float32)]"
      ]
     },
     "execution_count": 11,
     "metadata": {},
     "output_type": "execute_result"
    }
   ],
   "source": [
    "model.get_weights()"
   ]
  },
  {
   "cell_type": "code",
   "execution_count": 12,
   "metadata": {},
   "outputs": [],
   "source": [
    "# Step 2: Helper Functions\n",
    "# Function to decode reviews\n",
    "def decode_review(encoded_review):\n",
    "    return ' '.join([reverse_word_index.get(i - 3, '?') for i in encoded_review])\n",
    "\n",
    "# Function to preprocess user input\n",
    "def preprocess_text(text):\n",
    "    # Remove punctuation\n",
    "    text = text.lower().translate(str.maketrans('', '', string.punctuation))\n",
    "    words = text.split()\n",
    "    encoded_review = [word_index.get(word, 2) + 3 for word in words]\n",
    "    padded_review = sequence.pad_sequences([encoded_review], maxlen=500)\n",
    "    return padded_review"
   ]
  },
  {
   "cell_type": "code",
   "execution_count": 13,
   "metadata": {},
   "outputs": [],
   "source": [
    "### Prediction  function\n",
    "\n",
    "def predict_sentiment(review):\n",
    "    preprocessed_input=preprocess_text(review)\n",
    "\n",
    "    prediction=model.predict(preprocessed_input)\n",
    "\n",
    "    sentiment = 'Positive' if prediction[0][0] > 0.5 else 'Negative'\n",
    "    \n",
    "    return sentiment, prediction[0][0]"
   ]
  },
  {
   "cell_type": "code",
   "execution_count": 14,
   "metadata": {},
   "outputs": [
    {
     "name": "stdout",
     "output_type": "stream",
     "text": [
      "\u001b[1m1/1\u001b[0m \u001b[32m━━━━━━━━━━━━━━━━━━━━\u001b[0m\u001b[37m\u001b[0m \u001b[1m0s\u001b[0m 195ms/step\n",
      "Review: This movie was fantastic! The acting was great and the plot was thrilling.\n",
      "Sentiment: Positive\n",
      "Prediction Score: 0.7980080246925354\n"
     ]
    }
   ],
   "source": [
    "# Step 4: User Input and Prediction\n",
    "# Example review for prediction\n",
    "example_review = \"This movie was fantastic! The acting was great and the plot was thrilling.\"\n",
    "\n",
    "sentiment,score=predict_sentiment(example_review)\n",
    "\n",
    "print(f'Review: {example_review}')\n",
    "print(f'Sentiment: {sentiment}')\n",
    "print(f'Prediction Score: {score}')"
   ]
  },
  {
   "cell_type": "code",
   "execution_count": null,
   "metadata": {},
   "outputs": [],
   "source": []
  },
  {
   "cell_type": "code",
   "execution_count": null,
   "metadata": {},
   "outputs": [],
   "source": []
  },
  {
   "cell_type": "code",
   "execution_count": null,
   "metadata": {},
   "outputs": [],
   "source": []
  },
  {
   "cell_type": "code",
   "execution_count": null,
   "metadata": {},
   "outputs": [],
   "source": []
  }
 ],
 "metadata": {
  "kernelspec": {
   "display_name": "base",
   "language": "python",
   "name": "python3"
  },
  "language_info": {
   "codemirror_mode": {
    "name": "ipython",
    "version": 3
   },
   "file_extension": ".py",
   "mimetype": "text/x-python",
   "name": "python",
   "nbconvert_exporter": "python",
   "pygments_lexer": "ipython3",
   "version": "3.12.11"
  }
 },
 "nbformat": 4,
 "nbformat_minor": 2
}
